{
  "nbformat": 4,
  "nbformat_minor": 0,
  "metadata": {
    "colab": {
      "name": "titanic-model.ipynb",
      "provenance": [],
      "collapsed_sections": [],
      "authorship_tag": "ABX9TyNIYEfJxLFrnGXXW0OVDKmm",
      "include_colab_link": true
    },
    "kernelspec": {
      "name": "python3",
      "display_name": "Python 3"
    }
  },
  "cells": [
    {
      "cell_type": "markdown",
      "metadata": {
        "id": "view-in-github",
        "colab_type": "text"
      },
      "source": [
        "<a href=\"https://colab.research.google.com/github/DunkleCat/ia-titanic/blob/master/titanic_model.ipynb\" target=\"_parent\"><img src=\"https://colab.research.google.com/assets/colab-badge.svg\" alt=\"Open In Colab\"/></a>"
      ]
    },
    {
      "cell_type": "markdown",
      "metadata": {
        "id": "vtYETQz8e3md",
        "colab_type": "text"
      },
      "source": [
        "# Librerie"
      ]
    },
    {
      "cell_type": "code",
      "metadata": {
        "id": "5vm4ypW4e6He",
        "colab_type": "code",
        "colab": {}
      },
      "source": [
        "import matplotlib.pyplot as plt\n",
        "import numpy as np\n",
        "import pandas as pd\n",
        "import tensorflow as tf\n",
        "\n",
        "# Rende i numeri a virgola mobile più leggibili\n",
        "np.set_printoptions(precision=3, suppress=True)"
      ],
      "execution_count": 0,
      "outputs": []
    },
    {
      "cell_type": "markdown",
      "metadata": {
        "id": "hVrGef2UepbR",
        "colab_type": "text"
      },
      "source": [
        "# Dataframe"
      ]
    },
    {
      "cell_type": "markdown",
      "metadata": {
        "id": "Ww7Zz_FlsYNQ",
        "colab_type": "text"
      },
      "source": [
        "## Download del dataset"
      ]
    },
    {
      "cell_type": "code",
      "metadata": {
        "id": "gb1grlszsZG3",
        "colab_type": "code",
        "colab": {}
      },
      "source": [
        "TRAIN_DATA_URL = \"https://storage.googleapis.com/tf-datasets/titanic/train.csv\"\n",
        "TEST_DATA_URL = \"https://storage.googleapis.com/tf-datasets/titanic/eval.csv\"\n",
        "\n",
        "train_file_path = tf.keras.utils.get_file(\"train.csv\", TRAIN_DATA_URL)\n",
        "test_file_path = tf.keras.utils.get_file(\"eval.csv\", TEST_DATA_URL)\n",
        "\n",
        "train_dataframe = pd.read_csv(train_file_path)\n",
        "test_dataframe = pd.read_csv(test_file_path)\n",
        "\n",
        "dataframe = train_dataframe.append(test_dataframe, ignore_index=True)\n",
        "dataframe = dataframe.replace('unknown', np.nan)\n",
        "target_label = \"survived\""
      ],
      "execution_count": 0,
      "outputs": []
    },
    {
      "cell_type": "markdown",
      "metadata": {
        "id": "zv22gXOutpIR",
        "colab_type": "text"
      },
      "source": [
        "## Vista generica del dataset"
      ]
    },
    {
      "cell_type": "code",
      "metadata": {
        "id": "f8iPqu2_tsXs",
        "colab_type": "code",
        "outputId": "165770be-5eee-4b3c-87fb-d9b8a22e5ab7",
        "colab": {
          "base_uri": "https://localhost:8080/",
          "height": 204
        }
      },
      "source": [
        "dataframe.head()"
      ],
      "execution_count": 3,
      "outputs": [
        {
          "output_type": "execute_result",
          "data": {
            "text/html": [
              "<div>\n",
              "<style scoped>\n",
              "    .dataframe tbody tr th:only-of-type {\n",
              "        vertical-align: middle;\n",
              "    }\n",
              "\n",
              "    .dataframe tbody tr th {\n",
              "        vertical-align: top;\n",
              "    }\n",
              "\n",
              "    .dataframe thead th {\n",
              "        text-align: right;\n",
              "    }\n",
              "</style>\n",
              "<table border=\"1\" class=\"dataframe\">\n",
              "  <thead>\n",
              "    <tr style=\"text-align: right;\">\n",
              "      <th></th>\n",
              "      <th>survived</th>\n",
              "      <th>sex</th>\n",
              "      <th>age</th>\n",
              "      <th>n_siblings_spouses</th>\n",
              "      <th>parch</th>\n",
              "      <th>fare</th>\n",
              "      <th>class</th>\n",
              "      <th>deck</th>\n",
              "      <th>embark_town</th>\n",
              "      <th>alone</th>\n",
              "    </tr>\n",
              "  </thead>\n",
              "  <tbody>\n",
              "    <tr>\n",
              "      <th>0</th>\n",
              "      <td>0</td>\n",
              "      <td>male</td>\n",
              "      <td>22.0</td>\n",
              "      <td>1</td>\n",
              "      <td>0</td>\n",
              "      <td>7.2500</td>\n",
              "      <td>Third</td>\n",
              "      <td>NaN</td>\n",
              "      <td>Southampton</td>\n",
              "      <td>n</td>\n",
              "    </tr>\n",
              "    <tr>\n",
              "      <th>1</th>\n",
              "      <td>1</td>\n",
              "      <td>female</td>\n",
              "      <td>38.0</td>\n",
              "      <td>1</td>\n",
              "      <td>0</td>\n",
              "      <td>71.2833</td>\n",
              "      <td>First</td>\n",
              "      <td>C</td>\n",
              "      <td>Cherbourg</td>\n",
              "      <td>n</td>\n",
              "    </tr>\n",
              "    <tr>\n",
              "      <th>2</th>\n",
              "      <td>1</td>\n",
              "      <td>female</td>\n",
              "      <td>26.0</td>\n",
              "      <td>0</td>\n",
              "      <td>0</td>\n",
              "      <td>7.9250</td>\n",
              "      <td>Third</td>\n",
              "      <td>NaN</td>\n",
              "      <td>Southampton</td>\n",
              "      <td>y</td>\n",
              "    </tr>\n",
              "    <tr>\n",
              "      <th>3</th>\n",
              "      <td>1</td>\n",
              "      <td>female</td>\n",
              "      <td>35.0</td>\n",
              "      <td>1</td>\n",
              "      <td>0</td>\n",
              "      <td>53.1000</td>\n",
              "      <td>First</td>\n",
              "      <td>C</td>\n",
              "      <td>Southampton</td>\n",
              "      <td>n</td>\n",
              "    </tr>\n",
              "    <tr>\n",
              "      <th>4</th>\n",
              "      <td>0</td>\n",
              "      <td>male</td>\n",
              "      <td>28.0</td>\n",
              "      <td>0</td>\n",
              "      <td>0</td>\n",
              "      <td>8.4583</td>\n",
              "      <td>Third</td>\n",
              "      <td>NaN</td>\n",
              "      <td>Queenstown</td>\n",
              "      <td>y</td>\n",
              "    </tr>\n",
              "  </tbody>\n",
              "</table>\n",
              "</div>"
            ],
            "text/plain": [
              "   survived     sex   age  n_siblings_spouses  ...  class  deck  embark_town alone\n",
              "0         0    male  22.0                   1  ...  Third   NaN  Southampton     n\n",
              "1         1  female  38.0                   1  ...  First     C    Cherbourg     n\n",
              "2         1  female  26.0                   0  ...  Third   NaN  Southampton     y\n",
              "3         1  female  35.0                   1  ...  First     C  Southampton     n\n",
              "4         0    male  28.0                   0  ...  Third   NaN   Queenstown     y\n",
              "\n",
              "[5 rows x 10 columns]"
            ]
          },
          "metadata": {
            "tags": []
          },
          "execution_count": 3
        }
      ]
    },
    {
      "cell_type": "markdown",
      "metadata": {
        "id": "YPpKdyBPuUlY",
        "colab_type": "text"
      },
      "source": [
        "## Ottimizzazione del dataset\n",
        "\n",
        "La rete neurale lavora sfruttando i numeri e non le stringhe. Per questo motivo conviene trasformare ogni colonna che contiene degli identificatori scritti come carattere in numeri interi che rappresentino la classe corrispondente. "
      ]
    },
    {
      "cell_type": "code",
      "metadata": {
        "id": "LbfXyNupuZBG",
        "colab_type": "code",
        "colab": {}
      },
      "source": [
        "for elem in dataframe:\n",
        "  if type(dataframe[elem][1]) is str:\n",
        "    dataframe[elem] = pd.Categorical(dataframe[elem])\n",
        "    dataframe[elem] = getattr(dataframe, elem).cat.codes"
      ],
      "execution_count": 0,
      "outputs": []
    },
    {
      "cell_type": "markdown",
      "metadata": {
        "id": "qZeKm5qCuf1I",
        "colab_type": "text"
      },
      "source": [
        "## Dataset post-ottimizzazione"
      ]
    },
    {
      "cell_type": "code",
      "metadata": {
        "id": "uDe99GwzukP_",
        "colab_type": "code",
        "outputId": "d953a1b2-b0b7-4956-82a3-4bcaca95291c",
        "colab": {
          "base_uri": "https://localhost:8080/",
          "height": 204
        }
      },
      "source": [
        "dataframe.head()"
      ],
      "execution_count": 5,
      "outputs": [
        {
          "output_type": "execute_result",
          "data": {
            "text/html": [
              "<div>\n",
              "<style scoped>\n",
              "    .dataframe tbody tr th:only-of-type {\n",
              "        vertical-align: middle;\n",
              "    }\n",
              "\n",
              "    .dataframe tbody tr th {\n",
              "        vertical-align: top;\n",
              "    }\n",
              "\n",
              "    .dataframe thead th {\n",
              "        text-align: right;\n",
              "    }\n",
              "</style>\n",
              "<table border=\"1\" class=\"dataframe\">\n",
              "  <thead>\n",
              "    <tr style=\"text-align: right;\">\n",
              "      <th></th>\n",
              "      <th>survived</th>\n",
              "      <th>sex</th>\n",
              "      <th>age</th>\n",
              "      <th>n_siblings_spouses</th>\n",
              "      <th>parch</th>\n",
              "      <th>fare</th>\n",
              "      <th>class</th>\n",
              "      <th>deck</th>\n",
              "      <th>embark_town</th>\n",
              "      <th>alone</th>\n",
              "    </tr>\n",
              "  </thead>\n",
              "  <tbody>\n",
              "    <tr>\n",
              "      <th>0</th>\n",
              "      <td>0</td>\n",
              "      <td>1</td>\n",
              "      <td>22.0</td>\n",
              "      <td>1</td>\n",
              "      <td>0</td>\n",
              "      <td>7.2500</td>\n",
              "      <td>2</td>\n",
              "      <td>-1</td>\n",
              "      <td>2</td>\n",
              "      <td>0</td>\n",
              "    </tr>\n",
              "    <tr>\n",
              "      <th>1</th>\n",
              "      <td>1</td>\n",
              "      <td>0</td>\n",
              "      <td>38.0</td>\n",
              "      <td>1</td>\n",
              "      <td>0</td>\n",
              "      <td>71.2833</td>\n",
              "      <td>0</td>\n",
              "      <td>2</td>\n",
              "      <td>0</td>\n",
              "      <td>0</td>\n",
              "    </tr>\n",
              "    <tr>\n",
              "      <th>2</th>\n",
              "      <td>1</td>\n",
              "      <td>0</td>\n",
              "      <td>26.0</td>\n",
              "      <td>0</td>\n",
              "      <td>0</td>\n",
              "      <td>7.9250</td>\n",
              "      <td>2</td>\n",
              "      <td>-1</td>\n",
              "      <td>2</td>\n",
              "      <td>1</td>\n",
              "    </tr>\n",
              "    <tr>\n",
              "      <th>3</th>\n",
              "      <td>1</td>\n",
              "      <td>0</td>\n",
              "      <td>35.0</td>\n",
              "      <td>1</td>\n",
              "      <td>0</td>\n",
              "      <td>53.1000</td>\n",
              "      <td>0</td>\n",
              "      <td>2</td>\n",
              "      <td>2</td>\n",
              "      <td>0</td>\n",
              "    </tr>\n",
              "    <tr>\n",
              "      <th>4</th>\n",
              "      <td>0</td>\n",
              "      <td>1</td>\n",
              "      <td>28.0</td>\n",
              "      <td>0</td>\n",
              "      <td>0</td>\n",
              "      <td>8.4583</td>\n",
              "      <td>2</td>\n",
              "      <td>-1</td>\n",
              "      <td>1</td>\n",
              "      <td>1</td>\n",
              "    </tr>\n",
              "  </tbody>\n",
              "</table>\n",
              "</div>"
            ],
            "text/plain": [
              "   survived  sex   age  n_siblings_spouses  ...  class  deck  embark_town  alone\n",
              "0         0    1  22.0                   1  ...      2    -1            2      0\n",
              "1         1    0  38.0                   1  ...      0     2            0      0\n",
              "2         1    0  26.0                   0  ...      2    -1            2      1\n",
              "3         1    0  35.0                   1  ...      0     2            2      0\n",
              "4         0    1  28.0                   0  ...      2    -1            1      1\n",
              "\n",
              "[5 rows x 10 columns]"
            ]
          },
          "metadata": {
            "tags": []
          },
          "execution_count": 5
        }
      ]
    },
    {
      "cell_type": "markdown",
      "metadata": {
        "id": "IXXVUer7Dqsd",
        "colab_type": "text"
      },
      "source": [
        "# Albero di decisione\n"
      ]
    },
    {
      "cell_type": "markdown",
      "metadata": {
        "id": "9O_jPTuwFZNH",
        "colab_type": "text"
      },
      "source": [
        "## Setup"
      ]
    },
    {
      "cell_type": "code",
      "metadata": {
        "id": "aadgQOdeD86A",
        "colab_type": "code",
        "colab": {
          "base_uri": "https://localhost:8080/",
          "height": 51
        },
        "outputId": "29c668e6-26a2-4c84-b053-818945212740"
      },
      "source": [
        "import sklearn\n",
        "import pandas as pd\n",
        "from sklearn import metrics\n",
        "from sklearn.model_selection import train_test_split\n",
        "from sklearn.tree import DecisionTreeClassifier\n",
        "from sklearn.preprocessing import LabelEncoder\n",
        "from sklearn.ensemble import RandomForestClassifier\n",
        "\n",
        "train, test = train_test_split(dataframe, test_size=0.1)\n",
        "print(len(train), 'train examples')\n",
        "print(len(test), 'test examples')\n",
        "\n",
        "model_rf = RandomForestClassifier(random_state=1)\n",
        "model_dt = DecisionTreeClassifier(random_state=1)"
      ],
      "execution_count": 6,
      "outputs": [
        {
          "output_type": "stream",
          "text": [
            "801 train examples\n",
            "90 test examples\n"
          ],
          "name": "stdout"
        }
      ]
    },
    {
      "cell_type": "markdown",
      "metadata": {
        "id": "Y0VQhofNGLmh",
        "colab_type": "text"
      },
      "source": [
        "## Addestramento"
      ]
    },
    {
      "cell_type": "code",
      "metadata": {
        "id": "8LQRcpN9GZtG",
        "colab_type": "code",
        "colab": {}
      },
      "source": [
        "train_target = train.pop(target_label)\n",
        "model_rf.fit(train, train_target)\n",
        "model_dt.fit(train, train_target)"
      ],
      "execution_count": 0,
      "outputs": []
    },
    {
      "cell_type": "markdown",
      "metadata": {
        "id": "QI4YQc3dGOWh",
        "colab_type": "text"
      },
      "source": [
        "## Test"
      ]
    },
    {
      "cell_type": "code",
      "metadata": {
        "id": "FGesKZccGXzC",
        "colab_type": "code",
        "colab": {
          "base_uri": "https://localhost:8080/",
          "height": 575
        },
        "outputId": "4cbcd60c-ffb5-4f0a-8c7b-af9c90870323"
      },
      "source": [
        "test_target = test.pop(target_label)\n",
        "\n",
        "preds = model_rf.predict(test)\n",
        "test_accuracy = metrics.accuracy_score(test_target, preds)\n",
        "print('[Random Forest]: Test Accuracy {}'.format(test_loss, test_accuracy))\n",
        "metrics.plot_confusion_matrix(model_rf, test, test_target, normalize='all')\n",
        "plt.show()\n",
        "\n",
        "preds = model_dt.predict(test)\n",
        "test_accuracy = metrics.accuracy_score(test_target, preds)\n",
        "print('[Decision Tree]: Test Accuracy {}'.format(test_loss, test_accuracy))\n",
        "metrics.plot_confusion_matrix(model_rf, test, test_target, normalize='all')\n",
        "plt.show()"
      ],
      "execution_count": 8,
      "outputs": [
        {
          "output_type": "stream",
          "text": [
            "[Random Forest]: Accuratezza Fase di Test:  0.8333333333333334\n"
          ],
          "name": "stdout"
        },
        {
          "output_type": "display_data",
          "data": {
            "image/png": "[encoded data removed]",
            "text/plain": [
              "<Figure size 432x288 with 2 Axes>"
            ]
          },
          "metadata": {
            "tags": [],
            "needs_background": "light"
          }
        },
        {
          "output_type": "stream",
          "text": [
            "[Decision Tree]: Accuratezza Fase di Test:  0.7444444444444445\n"
          ],
          "name": "stdout"
        },
        {
          "output_type": "display_data",
          "data": {
            "image/png": "[encoded data removed]",
            "text/plain": [
              "<Figure size 432x288 with 2 Axes>"
            ]
          },
          "metadata": {
            "tags": [],
            "needs_background": "light"
          }
        }
      ]
    },
    {
      "cell_type": "markdown",
      "metadata": {
        "id": "6weArEWJw9fz",
        "colab_type": "text"
      },
      "source": [
        "# Rete neurale"
      ]
    },
    {
      "cell_type": "markdown",
      "metadata": {
        "id": "65aRpeU3J8nr",
        "colab_type": "text"
      },
      "source": [
        "## Setup\n"
      ]
    },
    {
      "cell_type": "code",
      "metadata": {
        "id": "oNN4cQjiJ_3y",
        "colab_type": "code",
        "colab": {
          "base_uri": "https://localhost:8080/",
          "height": 68
        },
        "outputId": "6d100f1d-db12-4563-c540-35ba609d15a5"
      },
      "source": [
        "from tensorflow import feature_column\n",
        "from tensorflow.keras import layers\n",
        "from sklearn.model_selection import train_test_split\n",
        "\n",
        "train, test = train_test_split(dataframe, test_size=0.1)\n",
        "train, val = train_test_split(train, test_size=0.1)\n",
        "print(len(train), 'train examples')\n",
        "print(len(test), 'test examples')\n",
        "print(len(val), 'val example')"
      ],
      "execution_count": 9,
      "outputs": [
        {
          "output_type": "stream",
          "text": [
            "720 train examples\n",
            "90 test examples\n",
            "81 val example\n"
          ],
          "name": "stdout"
        }
      ]
    },
    {
      "cell_type": "markdown",
      "metadata": {
        "id": "nmBqV0rBw-Z_",
        "colab_type": "text"
      },
      "source": [
        "## Preparazione del modello"
      ]
    },
    {
      "cell_type": "code",
      "metadata": {
        "id": "2FdRf__LxBJo",
        "colab_type": "code",
        "colab": {}
      },
      "source": [
        "model = tf.keras.Sequential([\n",
        "    tf.keras.layers.Dense(32, activation='relu'),\n",
        "    tf.keras.layers.Dense(24, activation='relu'),\n",
        "    tf.keras.layers.Dense(1)\n",
        "])\n",
        "\n",
        "model.compile(\n",
        "    loss=tf.keras.losses.BinaryCrossentropy(from_logits=True),\n",
        "    optimizer='adam',\n",
        "    metrics=['accuracy'])"
      ],
      "execution_count": 0,
      "outputs": []
    },
    {
      "cell_type": "markdown",
      "metadata": {
        "id": "9BPVge8EySFC",
        "colab_type": "text"
      },
      "source": [
        "## Preparazione del Dataset"
      ]
    },
    {
      "cell_type": "code",
      "metadata": {
        "id": "_pJxeyWMyS25",
        "colab_type": "code",
        "outputId": "7a2f61a5-5875-42de-8816-3b37ab3b7758",
        "colab": {
          "base_uri": "https://localhost:8080/",
          "height": 68
        }
      },
      "source": [
        "train, test = train_test_split(dataframe, test_size=0.1)\n",
        "train, val = train_test_split(train, test_size=0.1)\n",
        "print(len(train), 'train examples')\n",
        "print(len(test), 'test examples')\n",
        "print(len(val), 'val example')"
      ],
      "execution_count": 11,
      "outputs": [
        {
          "output_type": "stream",
          "text": [
            "720 train examples\n",
            "90 test examples\n",
            "81 val example\n"
          ],
          "name": "stdout"
        }
      ]
    },
    {
      "cell_type": "markdown",
      "metadata": {
        "id": "cFahNK7dys9Q",
        "colab_type": "text"
      },
      "source": [
        "## Addestramento"
      ]
    },
    {
      "cell_type": "code",
      "metadata": {
        "id": "lMhkFrdpyj4K",
        "colab_type": "code",
        "colab": {}
      },
      "source": [
        "# Creazione del dataset tensorflow di training\n",
        "train_target = train.pop(target_label)\n",
        "train_dataset = (tf.data.Dataset.from_tensor_slices((train.values, train_target.values))).shuffle(len(train)).batch(1)\n",
        "\n",
        "# Fase di Training\n",
        "history = model.fit(train_dataset, epochs=100)"
      ],
      "execution_count": 0,
      "outputs": []
    },
    {
      "cell_type": "code",
      "metadata": {
        "id": "7F_rTTk4ry4_",
        "colab_type": "code",
        "colab": {
          "base_uri": "https://localhost:8080/",
          "height": 297
        },
        "outputId": "ea9e162a-8f43-477b-e291-248cb1ad0f55"
      },
      "source": [
        "  plt.title('Training evolution')\n",
        "  plt.xlabel('Epoch')\n",
        "\n",
        "  color = 'tab:blue'\n",
        "  plt.plot(history.history['accuracy'], color=color)\n",
        "  plt.ylabel('Accuracy', color=color)\n",
        "\n",
        "  plt.twinx()\n",
        "\n",
        "  color = 'tab:orange'\n",
        "  plt.plot(history.history['loss'], color=color)\n",
        "  plt.ylabel('Loss', color=color)\n",
        "\n",
        "  plt.tight_layout()\n",
        "  plt.show()"
      ],
      "execution_count": 13,
      "outputs": [
        {
          "output_type": "display_data",
          "data": {
            "image/png": "[encoded data removed]",
            "text/plain": [
              "<Figure size 432x288 with 2 Axes>"
            ]
          },
          "metadata": {
            "tags": [],
            "needs_background": "light"
          }
        }
      ]
    },
    {
      "cell_type": "markdown",
      "metadata": {
        "id": "Vhc3vTchNz90",
        "colab_type": "text"
      },
      "source": [
        "## Test"
      ]
    },
    {
      "cell_type": "code",
      "metadata": {
        "id": "o6Z9K2wsN0-J",
        "colab_type": "code",
        "outputId": "eee3e859-89d7-4087-df5f-acd06b7244fd",
        "colab": {
          "base_uri": "https://localhost:8080/",
          "height": 85
        }
      },
      "source": [
        "# Creazione del dataset tensrflow di test \n",
        "test_target = test.pop(target_label)\n",
        "test_dataset = (tf.data.Dataset.from_tensor_slices((test.values, test_target.values))).shuffle(len(test)).batch(1)\n",
        "\n",
        "# Fase di test\n",
        "test_loss, test_accuracy = model.evaluate(test_dataset)\n",
        "print('\\n\\nTest Loss {}, Test Accuracy {}'.format(test_loss, test_accuracy))"
      ],
      "execution_count": 14,
      "outputs": [
        {
          "output_type": "stream",
          "text": [
            "90/90 [==============================] - 0s 902us/step - loss: 0.6395 - accuracy: 0.8111\n",
            "\n",
            "\n",
            "Test Loss 0.63951575756073, Test Accuracy 0.8111110925674438\n"
          ],
          "name": "stdout"
        }
      ]
    },
    {
      "cell_type": "markdown",
      "metadata": {
        "id": "NEMUTDV3y73I",
        "colab_type": "text"
      },
      "source": [
        "## Valutazione"
      ]
    },
    {
      "cell_type": "code",
      "metadata": {
        "id": "VGjcDd4dy8VU",
        "colab_type": "code",
        "outputId": "01ba4cb7-a61f-4d70-b5b2-03d60e920a7d",
        "colab": {
          "base_uri": "https://localhost:8080/",
          "height": 187
        }
      },
      "source": [
        "# Creazione del dataset di valutazione\n",
        "val_target = val.pop(target_label)\n",
        "val_dataset = (tf.data.Dataset.from_tensor_slices(val.values)).batch(1)\n",
        "\n",
        "# Fase di valutazione\n",
        "predictions = model.predict(val_dataset)\n",
        "\n",
        "sp, dp, st, dt = 0, 0, 0, 0\n",
        "\n",
        "# Show some results\n",
        "for prediction, survived in zip(predictions[:10], list(val_target[:10])):\n",
        "  prediction = tf.sigmoid(prediction).numpy()\n",
        "\n",
        "  print(\"Predicted survival: {:.2%}\".format(prediction[0]),\n",
        "       \" | Actual outcome: \",\n",
        "       (\"SURVIVED\" if bool(survived) else \"DIED\"))"
      ],
      "execution_count": 15,
      "outputs": [
        {
          "output_type": "stream",
          "text": [
            "Predicted survival: 45.07%  | Actual outcome:  SURVIVED\n",
            "Predicted survival: 6.60%  | Actual outcome:  DIED\n",
            "Predicted survival: 3.11%  | Actual outcome:  DIED\n",
            "Predicted survival: 3.32%  | Actual outcome:  DIED\n",
            "Predicted survival: 0.97%  | Actual outcome:  DIED\n",
            "Predicted survival: 25.29%  | Actual outcome:  DIED\n",
            "Predicted survival: 78.94%  | Actual outcome:  SURVIVED\n",
            "Predicted survival: 46.90%  | Actual outcome:  DIED\n",
            "Predicted survival: 10.68%  | Actual outcome:  DIED\n",
            "Predicted survival: 4.74%  | Actual outcome:  DIED\n"
          ],
          "name": "stdout"
        }
      ]
    }
  ]
}